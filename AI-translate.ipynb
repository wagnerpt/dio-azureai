{
  "nbformat": 4,
  "nbformat_minor": 0,
  "metadata": {
    "colab": {
      "provenance": [],
      "toc_visible": true,
      "authorship_tag": "ABX9TyOntS1Z2UvZsDfMBrv5SSg5",
      "include_colab_link": true
    },
    "kernelspec": {
      "name": "python3",
      "display_name": "Python 3"
    },
    "language_info": {
      "name": "python"
    }
  },
  "cells": [
    {
      "cell_type": "markdown",
      "metadata": {
        "id": "view-in-github",
        "colab_type": "text"
      },
      "source": [
        "<a href=\"https://colab.research.google.com/github/wagnerpt/dio-azureai/blob/main/AI-translate.ipynb\" target=\"_parent\"><img src=\"https://colab.research.google.com/assets/colab-badge.svg\" alt=\"Open In Colab\"/></a>"
      ]
    },
    {
      "cell_type": "code",
      "execution_count": 1,
      "metadata": {
        "colab": {
          "base_uri": "https://localhost:8080/"
        },
        "id": "kjpiIFg5LmQ0",
        "outputId": "cd346060-e58b-47cd-ab2e-4ec5f7652d56"
      },
      "outputs": [
        {
          "output_type": "stream",
          "name": "stdout",
          "text": [
            "Requirement already satisfied: requests in /usr/local/lib/python3.10/dist-packages (2.32.3)\n",
            "Collecting python-docx\n",
            "  Downloading python_docx-1.1.2-py3-none-any.whl.metadata (2.0 kB)\n",
            "Requirement already satisfied: charset-normalizer<4,>=2 in /usr/local/lib/python3.10/dist-packages (from requests) (3.4.0)\n",
            "Requirement already satisfied: idna<4,>=2.5 in /usr/local/lib/python3.10/dist-packages (from requests) (3.10)\n",
            "Requirement already satisfied: urllib3<3,>=1.21.1 in /usr/local/lib/python3.10/dist-packages (from requests) (2.2.3)\n",
            "Requirement already satisfied: certifi>=2017.4.17 in /usr/local/lib/python3.10/dist-packages (from requests) (2024.8.30)\n",
            "Requirement already satisfied: lxml>=3.1.0 in /usr/local/lib/python3.10/dist-packages (from python-docx) (5.3.0)\n",
            "Requirement already satisfied: typing-extensions>=4.9.0 in /usr/local/lib/python3.10/dist-packages (from python-docx) (4.12.2)\n",
            "Downloading python_docx-1.1.2-py3-none-any.whl (244 kB)\n",
            "\u001b[2K   \u001b[90m━━━━━━━━━━━━━━━━━━━━━━━━━━━━━━━━━━━━━━━━\u001b[0m \u001b[32m244.3/244.3 kB\u001b[0m \u001b[31m5.5 MB/s\u001b[0m eta \u001b[36m0:00:00\u001b[0m\n",
            "\u001b[?25hInstalling collected packages: python-docx\n",
            "Successfully installed python-docx-1.1.2\n"
          ]
        }
      ],
      "source": [
        "!pip install requests python-docx"
      ]
    },
    {
      "cell_type": "code",
      "source": [
        "import requests\n",
        "from docx import Document\n",
        "import os\n",
        "\n",
        "subscription_key = \"DBVgP9VIoofsT9z7beNshxtWaqY23pQsEXTAFtRVjuxgHTM1PMxsJQQJ99AKACYeBjFXJ3w3AAAbACOG0RhY\"\n",
        "uri = \"https://api.cognitive.microsofttranslator.com\"\n",
        "location = \"eastus\"\n",
        "path2 = \"translate\"\n",
        "target_language = \"pt-br\"\n",
        "\n",
        "def translator_text(text, target_language):\n",
        "  path = '/translate'\n",
        "  constructed_url = uri + path\n",
        "  headers = {\n",
        "      'Ocp-Apim-Subscription-Key': subscription_key,\n",
        "      'Ocp-Apim-Subscription-Region': location,\n",
        "      'Content-Type': 'application/json',\n",
        "      'X-ClientTraceId': str(os.urandom(16))\n",
        "  }\n",
        "  body = [{ 'text': text }]\n",
        "  params = {\n",
        "      'api-version':'3.0',\n",
        "      'from':'en',\n",
        "      'to':target_language\n",
        "  }\n",
        "  request = requests.post(constructed_url, params=params, headers=headers, json=body)\n",
        "  response = request.json()\n",
        "  return response[0][\"translations\"][0][\"text\"]\n",
        "\n",
        "\n",
        "\n"
      ],
      "metadata": {
        "id": "a7A57QWpM6GX"
      },
      "execution_count": 4,
      "outputs": []
    },
    {
      "cell_type": "code",
      "source": [
        "text = \"Luiz Inácio Lula da Silva, commonly known as Lula, served as the President of Brazil from 2003 to 2010 and was re-elected for a third term starting in 2023. His presidency is marked by several significant achievements that had a profound impact on the country and its people.\"\n",
        "\n",
        "translator_text(text, target_language)"
      ],
      "metadata": {
        "colab": {
          "base_uri": "https://localhost:8080/",
          "height": 53
        },
        "id": "cjKtKmKlRmZ0",
        "outputId": "b92fb0cd-68fc-4227-a91d-90a7c678d62c"
      },
      "execution_count": 5,
      "outputs": [
        {
          "output_type": "execute_result",
          "data": {
            "text/plain": [
              "'Luiz Inácio Lula da Silva, mais conhecido como Lula, foi presidente do Brasil de 2003 a 2010 e foi reeleito para um terceiro mandato a partir de 2023. Sua presidência é marcada por várias conquistas significativas que tiveram um impacto profundo no país e em seu povo.'"
            ],
            "application/vnd.google.colaboratory.intrinsic+json": {
              "type": "string"
            }
          },
          "metadata": {},
          "execution_count": 5
        }
      ]
    },
    {
      "cell_type": "code",
      "source": [
        "def translate_document(path, target_language):\n",
        "  document = Document(path)\n",
        "  full_text = []\n",
        "  for paragraph in document.paragraphs:\n",
        "    translated_text = translator_text(paragraph.text, target_language)\n",
        "    full_text.append(translated_text)\n",
        "\n",
        "  newdoc = Document()\n",
        "  for line in full_text:\n",
        "    newdoc.add_paragraph(line)\n",
        "\n",
        "  newdoc_path = path.replace(\".docx\", f\"_{target_language}.docx\")\n",
        "  newdoc.save(newdoc_path)\n",
        "  return newdoc_path\n"
      ],
      "metadata": {
        "id": "ujuSoAWoR_Lm"
      },
      "execution_count": 10,
      "outputs": []
    },
    {
      "cell_type": "markdown",
      "source": [
        "# Nova seção"
      ],
      "metadata": {
        "id": "iDe8w7dyU5bF"
      }
    },
    {
      "cell_type": "code",
      "source": [
        "translate_document(\"/content/test_translate.docx\", \"pt-br\")"
      ],
      "metadata": {
        "colab": {
          "base_uri": "https://localhost:8080/",
          "height": 35
        },
        "id": "6UUE5X_BS04h",
        "outputId": "7e44b14b-1ff7-4d48-876d-eff6dbd672bf"
      },
      "execution_count": 11,
      "outputs": [
        {
          "output_type": "execute_result",
          "data": {
            "text/plain": [
              "'/content/test_translate_pt-br.docx'"
            ],
            "application/vnd.google.colaboratory.intrinsic+json": {
              "type": "string"
            }
          },
          "metadata": {},
          "execution_count": 11
        }
      ]
    }
  ]
}